{
 "cells": [
  {
   "cell_type": "markdown",
   "metadata": {},
   "source": [
    "# Creating People"
   ]
  },
  {
   "cell_type": "markdown",
   "metadata": {},
   "source": [
    "Our first step in modeling the spread of a disease within a population is to create our simulated people. In real life, people are infinitely complex; they have personalities, goals, friends, family, etc., but when we model something, we try to reduce the complexity of that thing to the smallest number of variables necessary to replicate the phenomenon we are interested in."
   ]
  },
  {
   "cell_type": "markdown",
   "metadata": {},
   "source": [
    "If we wanted to model how a person's body moves while they run a 100m dash, our model would have to include a ton of variables. We would need to capture the bone structure of their body, their gait (way they move their legs), how fast their muscles contract and relax, and much more. This quickly becomes really complex, and people spend years working to make these kinds of models!"
   ]
  },
  {
   "cell_type": "markdown",
   "metadata": {},
   "source": [
    ":::{figure-md} markdown-fig\n",
    "<img src=\"./Media/SkeletonRunningGif2.gif\" alt=\"running\" class=\"bg-primary mb-1\" width=\"150px\">\n",
    "\n",
    "Look at him go!\n",
    ":::"
   ]
  },
  {
   "cell_type": "markdown",
   "metadata": {},
   "source": [
    "Fortunately, the people in our model don't need to be nearly as complex. For the SIR disease model, all they need to do is move around, get sick, and infect each other. For this reason, we're going to start by representing our people as dots in a 2D Cartesian plane. That way, they can all have a position represented with (x, y) coordinates."
   ]
  },
  {
   "cell_type": "markdown",
   "metadata": {},
   "source": [
    ":::{figure-md} markdown-fig\n",
    "<img src=\"./Media/ppl_coordinates5.gif\" alt=\"ppl_coordinates\" class=\"bg-primary mb-1\">\n",
    "\n",
    "Each person we create in our model has their own set of coordinates\n",
    ":::"
   ]
  },
  {
   "cell_type": "markdown",
   "metadata": {},
   "source": [
    "## Creating a Class"
   ]
  },
  {
   "cell_type": "markdown",
   "metadata": {},
   "source": [
    "We're going to be creating our people using classes and objects. Remember that a class is like a blueprint, with variables that are unique to each instance of that class (an object), and functions that each object can call. For example, if we create a Car class, it might look something like this:"
   ]
  },
  {
   "cell_type": "code",
   "execution_count": 1,
   "metadata": {
    "id": "pCIinbtExDyw"
   },
   "outputs": [],
   "source": [
    "import numpy as np\n",
    "import matplotlib.pyplot as plt"
   ]
  },
  {
   "cell_type": "code",
   "execution_count": 2,
   "metadata": {},
   "outputs": [],
   "source": [
    "class Car:\n",
    "    \n",
    "    def __init__(self, make, model, year, color):\n",
    "        \n",
    "        self.make = make\n",
    "        self.model = model\n",
    "        self.year = year\n",
    "        self.color = color\n",
    "    \n",
    "    def estimate_price(self, miles):\n",
    "        price = 50000 - 40000*(1 - np.exp((self.year - 2023)/10)) - 10000*(1 - np.exp(-1*miles/50000))\n",
    "        \n",
    "        if self.color == \"Black\":\n",
    "            price += 1000\n",
    "        elif self.color == \"Blue\":\n",
    "            price += 1700\n",
    "        elif self.color == \"Gray\":\n",
    "            price += 400\n",
    "        elif self.color == \"Green\":\n",
    "            price += 2000\n",
    "            \n",
    "        if self.make == \"Toyota\":\n",
    "            price += 1000\n",
    "        elif self.make == \"BMW\":\n",
    "            price += 2000\n",
    "        elif self.make == \"Ferrari\":\n",
    "            price += 70000\n",
    "            \n",
    "        return price"
   ]
  },
  {
   "cell_type": "markdown",
   "metadata": {},
   "source": [
    "What's going on in this class? Well in our \"init\" function, we specify all the variables that each object we create from our class must have - the make, model, year, and color of the car. In our function declaration we have all those variables between parentheses, and then in our function body we say something like \"self.make = make\" for each variable. \n",
    "\n",
    "Why do we do that? Remember that any variable in the parentheses of a function declaration is a **parameter** - this means its value is passed when that function is called (in this case, when our object is created), but it is not stored by default in the obejct itself. Calling \"self.make\" means we are now creating a **class variable**, one that will always be available for the object we are creating from our class to use, and giving it a value, which in this case is our parameter of the same name. \n",
    "\n",
    "Note that we are using the same names for simplicity, but it doesn't have to be that way. For example, we could have written \"self.make_of_car = make\" instead. From then on, to reference the make of the car we created, we would access it by writing \"car_object_name.make_of_car\". \n",
    "\n",
    "Next, we created a function, \"estimate_price\" that uses some of those variables (along with a new one that must be entered, the number of miles the car has driven) to estimate how much the car costs. Don't worry too much about the math for now, just know that this function provides a different output based on the input variables."
   ]
  },
  {
   "cell_type": "markdown",
   "metadata": {},
   "source": [
    "We can now use this class to create as many cars as we want, and to estimate each of their prices. Try it for yourself!"
   ]
  },
  {
   "cell_type": "code",
   "execution_count": 3,
   "metadata": {
    "scrolled": true
   },
   "outputs": [
    {
     "name": "stdout",
     "output_type": "stream",
     "text": [
      "Price of car1: $5724.30\n",
      "Price of car2: $9047.61\n",
      "Price of nice car with 23000 miles: $100574.06\n",
      "Price of nice car with 80000 miles: $96280.19\n"
     ]
    }
   ],
   "source": [
    "car1 = Car(\"Toyota\", \"Camry\", 1997, \"Gray\")\n",
    "car1_miles = 100000\n",
    "car1_price = car1.estimate_price(car1_miles)\n",
    "print(\"Price of car1: $%.2f\" % car1_price)\n",
    "\n",
    "car2 = Car(\"Subaru\", \"Outback\", 2012, \"Green\")\n",
    "car2_miles = 38000\n",
    "car2_price = car1.estimate_price(car2_miles)\n",
    "print(\"Price of car2: $%.2f\" % car2_price)\n",
    "\n",
    "nice_car = Car(\"Ferrari\", \"Portofino M\", 2018, \"Purple\")\n",
    "print(\"Price of nice car with 23000 miles: $%.2f\" % nice_car.estimate_price(23000))\n",
    "print(\"Price of nice car with 80000 miles: $%.2f\" % nice_car.estimate_price(80000))"
   ]
  },
  {
   "cell_type": "code",
   "execution_count": 4,
   "metadata": {},
   "outputs": [],
   "source": [
    "#################################################################### \n",
    "### Use this space to create your own car and estimate its price ###\n",
    "####################################################################\n",
    "\n",
    "# YOUR CODE HERE\n",
    "# \n",
    "#\n",
    "# \n",
    "# "
   ]
  },
  {
   "cell_type": "markdown",
   "metadata": {},
   "source": [
    "## Creating the \"Person\" Class"
   ]
  },
  {
   "cell_type": "markdown",
   "metadata": {},
   "source": [
    "Before we start building our class, it's often helpful to think ahead about what kinds of variables we might want this class to store, and what kind of functions we expect to include in it. Take a few minutes to think about all of the variables that you might need to incorporate into your model - variables for the movement of the people, the spread of their disease, and more. "
   ]
  },
  {
   "cell_type": "markdown",
   "metadata": {},
   "source": [
    "We're now going to start by making our person class with just two variables - an x coordinate and a y coordinate. Go ahead and try it, and look to the Car example if necessary to remember the syntax for creating class variables."
   ]
  },
  {
   "cell_type": "code",
   "execution_count": 5,
   "metadata": {
    "id": "6ZueltM8xJD7"
   },
   "outputs": [],
   "source": [
    "class Person:\n",
    "\n",
    "    ### YOUR CODE HERE\n",
    "    ### Modify this function and its declaration to create the variables that every 'person' will have!\n",
    "    def __init__(self):\n",
    "        pass\n",
    "        ### Remove \"pass\" once you have finished\n",
    "        #\n",
    "        #\n",
    "        #"
   ]
  },
  {
   "cell_type": "code",
   "execution_count": 6,
   "metadata": {
    "id": "Ow8sC7M7xWU6"
   },
   "outputs": [],
   "source": [
    "### YOUR CODE HERE\n",
    "### Instantiate a person (call them human1) located at the coordinates (4, 6)\n",
    "#\n",
    "#\n",
    "#"
   ]
  },
  {
   "cell_type": "code",
   "execution_count": 7,
   "metadata": {
    "id": "S2yDfTqfx1iI"
   },
   "outputs": [],
   "source": [
    "### YOUR CODE HERE\n",
    "### Plot the person in the X-Y plane using the function below\n",
    "\n",
    "# plt.scatter(REPLACE_WITH_PERSONS_X_COORDINATE, REPLACE_WITH_PERSONS_Y_COORDINATE)"
   ]
  },
  {
   "cell_type": "markdown",
   "metadata": {},
   "source": [
    "For the code block above, your output should show something like:"
   ]
  },
  {
   "cell_type": "markdown",
   "metadata": {},
   "source": [
    ":::{figure-md} markdown-fig\n",
    "<img src=\"./Media/SinglePersonPlot.png\" alt=\"single_person\" class=\"bg-primary mb-1\">\n",
    "\n",
    "If you've made your first person correctly, it should look something like this!\n",
    ":::"
   ]
  },
  {
   "cell_type": "markdown",
   "metadata": {},
   "source": [
    "Our next step is to make 100 people using our class, and plot all of them to see our entire population at once. You should only need three lines of code to do this (don't copy and paste the code you wrote previously 100 times!). \n",
    "\n",
    "**Hint**: the last line should be a call to your \"plt.scatter\" function"
   ]
  },
  {
   "cell_type": "code",
   "execution_count": 8,
   "metadata": {
    "id": "1-l3r9ykyH7O"
   },
   "outputs": [],
   "source": [
    "# Create 100 people (without copy-pasting your code) and plot each of them on the same graph \n",
    "\n",
    "### YOUR CODE HERE\n",
    "# ...\n",
    "# ...\n",
    "# ..."
   ]
  },
  {
   "cell_type": "code",
   "execution_count": 9,
   "metadata": {
    "id": "-OuoKBsIT6OK"
   },
   "outputs": [],
   "source": [
    "#   Create all 100 people before plotting them (hint: store their location coordinates in a data structure)\n",
    "#   Add a parameter to the Person class so you can control the color of each individual person when they're plotted (hint: Use plt.scatter's 'color' parameter)"
   ]
  }
 ],
 "metadata": {
  "colab": {
   "provenance": []
  },
  "kernelspec": {
   "display_name": "Python 3 (ipykernel)",
   "language": "python",
   "name": "python3"
  },
  "language_info": {
   "codemirror_mode": {
    "name": "ipython",
    "version": 3
   },
   "file_extension": ".py",
   "mimetype": "text/x-python",
   "name": "python",
   "nbconvert_exporter": "python",
   "pygments_lexer": "ipython3",
   "version": "3.9.10"
  }
 },
 "nbformat": 4,
 "nbformat_minor": 1
}