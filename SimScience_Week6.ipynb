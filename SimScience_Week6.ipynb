{
 "cells": [
  {
   "cell_type": "markdown",
   "metadata": {
    "id": "vRXUu2rWGgWC"
   },
   "source": [
    "# Week 6"
   ]
  },
  {
   "cell_type": "code",
   "execution_count": 1,
   "metadata": {
    "vscode": {
     "languageId": "plaintext"
    }
   },
   "outputs": [],
   "source": [
    "import numpy as np\n",
    "import matplotlib.pyplot as plt\n",
    "from matplotlib import animation\n",
    "from matplotlib import rc\n",
    "rc('animation', html='jshtml')\n",
    "import matplotlib.colors as colors"
   ]
  },
  {
   "cell_type": "code",
   "execution_count": 2,
   "metadata": {
    "cellView": "form",
    "id": "D7rYJLwXasIl"
   },
   "outputs": [],
   "source": [
    "#@title Animation and Plotting Function (run this)\n",
    "\n",
    "def animate(ppl_coords, timesteps, ppl_colors = []):\n",
    "    if len(ppl_colors) == 0:\n",
    "        ppl_colors = np.zeros((np.shape(ppl_coords)[0], np.shape(ppl_coords)[1]))\n",
    "\n",
    "    fig = plt.figure()\n",
    "    axis = plt.axes(xlim =(np.min(ppl_coords[:, :, 0]), np.max(ppl_coords[:, :, 0])), ylim =(np.min(ppl_coords[:, :, 1]), np.max(ppl_coords[:, :, 1])))\n",
    "    plt.ioff()\n",
    "\n",
    "    status_colors = ['blue', 'red', 'gray']\n",
    "\n",
    "    cmap = colors.ListedColormap(status_colors)\n",
    "    boundaries = np.arange(-0.1, len(status_colors), 1)\n",
    "    norm = colors.BoundaryNorm(boundaries, cmap.N, clip=True)\n",
    "  \n",
    "    chart = axis.scatter([], [], c=[], cmap=cmap, norm=norm)\n",
    "    plt.close(fig)\n",
    "  \n",
    "    def init():\n",
    "        chart.set_offsets(ppl_coords[0])\n",
    "        chart.set_array(ppl_colors[0])\n",
    "        return chart,\n",
    "  \n",
    "    # animation function\n",
    "    def animate(i):\n",
    "        chart.set_offsets(ppl_coords[i])\n",
    "        chart.set_array(ppl_colors[i])\n",
    "        return chart,\n",
    "  \n",
    "    # calling the animation function    \n",
    "    anim = animation.FuncAnimation(fig, func = animate,\n",
    "                              init_func = init,\n",
    "                              frames = timesteps,\n",
    "                              interval = 20,\n",
    "                              blit = False)\n",
    "  \n",
    "    return anim\n",
    "\n",
    "def plot_SIR(susceptible, infected, recovered, timesteps, num_people):\n",
    "    plt.fill_between(x = np.arange(timesteps), y1 = num_people - np.squeeze(recovered), y2=num_people, color='grey')\n",
    "    plt.fill_between(x = np.arange(timesteps), y1 = np.squeeze(infected + susceptible), color='blue')\n",
    "    plt.fill_between(x = np.arange(timesteps), y1 = np.squeeze(infected), color='red') \n",
    "    plt.legend([\"Recovered\", \"Susceptible\", \"Infected\"])\n",
    "    plt.xlabel(\"Timestep\")\n",
    "    plt.ylabel(\"Number of People\") "
   ]
  },
  {
   "cell_type": "code",
   "execution_count": 3,
   "metadata": {
    "id": "LYCQoJfKGjbD"
   },
   "outputs": [],
   "source": [
    "class Person:\n",
    "\n",
    "    def __init__(self, x, y, speed, dt):\n",
    "        self.x = x\n",
    "        self.y = y\n",
    "        self.speed = speed\n",
    "        self.dt = dt\n",
    "\n",
    "    def set_direction(self, angle):\n",
    "        self.angle = angle\n",
    "        self.speed_x = self.speed*np.cos(self.angle*np.pi/180)\n",
    "        self.speed_y = self.speed*np.sin(self.angle*np.pi/180)\n",
    "  \n",
    "    def move(self):\n",
    "        self.x = self.x + self.speed_x * self.dt\n",
    "        self.y = self.y + self.speed_y * self.dt\n",
    "\n",
    "    def set_status(self, status):\n",
    "        # 0 = susceptible, 1 = infected, 2 = recovered\n",
    "        self.status = status\n",
    "\n",
    "    def bounce(self, wall):\n",
    "        if wall == 0:     # Top or bottom wall\n",
    "            self.set_direction(-1*self.angle)\n",
    "        elif wall == 1:   # Left or right wall\n",
    "            self.set_direction(180 - self.angle)\n",
    "\n",
    "    def set_bounds(self, x_bounds, y_bounds):\n",
    "        self.x_bounds = x_bounds\n",
    "        self.y_bounds = y_bounds\n",
    "\n",
    "    def check_bounds(self):\n",
    "        # Check if the human has intersected or moved past any of the x or y-bounds\n",
    "        if self.x <= self.x_bounds[0] or self.x >= self.x_bounds[1]:\n",
    "            self.bounce(1)\n",
    "        elif self.y <= self.y_bounds[0] or self.y >= self.y_bounds[1]:\n",
    "            self.bounce(0)\n",
    "\n",
    "    def set_initial_status(self, prob):\n",
    "        # Based on the infection probability, set the person's status (hint: use a random number)\n",
    "        if np.random.random() <= prob:\n",
    "            self.set_status(1)\n",
    "            # Begin their recovery if they start sick\n",
    "            self.init_recovery(0)\n",
    "        else:\n",
    "            self.set_status(0)\n",
    "  \n",
    "    def distance(self, human2):\n",
    "        dist = np.sqrt((self.x - human2.x)**2 + (self.y - human2.y)**2)\n",
    "        return dist\n",
    "\n",
    "    def init_infection(self, radius, probability, infection_duration):\n",
    "        # Store the class variables needed for infection to occur\n",
    "        self.radius = radius\n",
    "        self.probability = probability\n",
    "        self.infection_duration = infection_duration\n",
    "\n",
    "    def infect(self, human2, current_time):\n",
    "        # Check if human2 is susceptible\n",
    "        if human2.status != 0:\n",
    "            return\n",
    "\n",
    "        # Check if human2 is within the infection radius\n",
    "        if self.distance(human2) > self.radius:\n",
    "            return\n",
    "\n",
    "        # Use random numbers to potentially infect human2\n",
    "        if np.random.random() <= self.probability:\n",
    "            human2.status = 1\n",
    "            human2.init_recovery(current_time)\n",
    "\n",
    "    def init_recovery(self, infected_time):\n",
    "        # Store the time at which the person is infected\n",
    "        self.infected_time = infected_time\n",
    "\n",
    "    def recover(self, current_time):\n",
    "        # Check if the person is sick; if they are, and they have been sick for a time exceeding the infection duration, then change their status to be recovered\n",
    "        if self.status == 1:\n",
    "            if current_time - self.infected_time >= self.infection_duration:\n",
    "                self.status = 2\n",
    "  "
   ]
  },
  {
   "cell_type": "markdown",
   "metadata": {
    "id": "Gc7sPzf3QcmM"
   },
   "source": [
    "### Create Your People\n",
    "- Create arrays/matrices to store your people, their coordinates, their statuses, and anything else you might want to keep track of during your simulation\n",
    "- Use a loop to create each person, initialize their variables, and store any information about them that you want access to later "
   ]
  },
  {
   "cell_type": "code",
   "execution_count": 5,
   "metadata": {
    "id": "-foAYxnCXIeV"
   },
   "outputs": [
    {
     "ename": "IndentationError",
     "evalue": "unexpected indent (1040435018.py, line 7)",
     "output_type": "error",
     "traceback": [
      "\u001b[0;36m  Input \u001b[0;32mIn [5]\u001b[0;36m\u001b[0m\n\u001b[0;31m    people = []\u001b[0m\n\u001b[0m    ^\u001b[0m\n\u001b[0;31mIndentationError\u001b[0m\u001b[0;31m:\u001b[0m unexpected indent\n"
     ]
    }
   ],
   "source": [
    "### EDIT THIS ###\n",
    "# Turn the code below into a function so that you can run it multiple times\n",
    "# Determine which input parameters your function needs based on the code you already have and the variables that code uses\n",
    "\n",
    "...\n",
    "    # Create array to store all people and matrices to store coordinates and statuses\n",
    "    people = []\n",
    "    ppl_coords = np.zeros((timesteps, num_people, 2))\n",
    "    ppl_colors = np.zeros((timesteps, num_people))\n",
    "\n",
    "    for i in range(num_people):\n",
    "        # Define x and y coordinates and angle of movement\n",
    "        x = np.random.random()*(x_bounds[1]-x_bounds[0]) + x_bounds[0]\n",
    "        y = np.random.random()*(y_bounds[1]-y_bounds[0]) + y_bounds[0]\n",
    "        angle = np.random.random()*360\n",
    "\n",
    "        # Create your person, then set their bounds, then set their direction\n",
    "        human = Person(x, y, speed, dt)\n",
    "        human.set_bounds(x_bounds, y_bounds)\n",
    "        human.set_direction(angle)\n",
    "\n",
    "        # Set your person's initial infection status using the infection probability constant\n",
    "        human.set_initial_status(init_prob)\n",
    "\n",
    "        # Initialize your person's infection variables\n",
    "        human.init_infection(radius, transmission_prob, duration)\n",
    "\n",
    "        # Add your person to your array of people\n",
    "        people.append(human)\n",
    "  \n",
    "    ### EDIT THIS ###\n",
    "    # Determine what variables your function needs to return\n",
    "    ..."
   ]
  },
  {
   "cell_type": "markdown",
   "metadata": {
    "id": "F5QpPH6MQzBj"
   },
   "source": [
    "## Run Your Model\n",
    "- At each timestep (loop), loop through all people to perform the following:\n",
    "1. Update their position (and check if they hit a boundary)\n",
    "2. Store their coordinates and infection status\n",
    "3. Perform disease transmission if the person is infected\n",
    "4. Check if the person should recover"
   ]
  },
  {
   "cell_type": "code",
   "execution_count": 6,
   "metadata": {
    "id": "bQ7J4jdsQzRJ"
   },
   "outputs": [
    {
     "ename": "IndentationError",
     "evalue": "unexpected indent (229796025.py, line 13)",
     "output_type": "error",
     "traceback": [
      "\u001b[0;36m  Input \u001b[0;32mIn [6]\u001b[0;36m\u001b[0m\n\u001b[0;31m    susceptible = ...\u001b[0m\n\u001b[0m    ^\u001b[0m\n\u001b[0;31mIndentationError\u001b[0m\u001b[0;31m:\u001b[0m unexpected indent\n"
     ]
    }
   ],
   "source": [
    "### EDIT THIS ###\n",
    "# Turn the code below into a function so that you can run it multiple times\n",
    "# Determine which input parameters your function needs based on the code you already have and the variables that code uses\n",
    "...\n",
    "\n",
    "    # Loop through timesteps and people to run model\n",
    "\n",
    "    ### EDIT THIS ###\n",
    "    # Create variables to store the number of 1. susceptible, 2. infected, and 3. recovered people at each timestep\n",
    "    # Hint: Use np.zeros to create a list of zeros that has a length equivalent to the number of timesteps\n",
    "    # Hint: The syntax for np.zeros is: np.zeros((number_of_timesteps_variable_goes_here, 1)) \n",
    "\n",
    "    susceptible = ...\n",
    "    infected = ...\n",
    "    recovered = ...\n",
    "\n",
    "    for i in range(timesteps):\n",
    "        for j in range(num_people):\n",
    "            # Get your person from the array of people\n",
    "            human = people[j]\n",
    "\n",
    "            # Move your person, then check if they intersected a boundary\n",
    "            human.move()\n",
    "            human.check_bounds()\n",
    "\n",
    "            # Store your person's new coordinates in the matrix of people's coordinates\n",
    "            ppl_coords[i, j] = np.array([human.x, human.y])\n",
    "\n",
    "            # Store your person's status in the ppl_colors array\n",
    "            ppl_colors[i, j] = human.status\n",
    "\n",
    "            ### EDIT THIS ###\n",
    "            # Update the count of the number of susceptible, infected, and recovered people for this timestep based on the person's status\n",
    "            ...\n",
    "\n",
    "            # Check if your person is infected, and if so, run the infection function between them and every other person in our model\n",
    "            if human.status == 1:\n",
    "                for k in range(num_people):\n",
    "                    if k != j:\n",
    "                        human2 = people[k]\n",
    "                        human.infect(human2, i)\n",
    "\n",
    "                # Check if your person should recover based on the current time (hint: use our function)\n",
    "                human.recover(i)\n",
    "\n",
    "    ### EDIT THIS ###\n",
    "    # Determine what variables your function needs to return\n",
    "    ..."
   ]
  },
  {
   "cell_type": "markdown",
   "metadata": {
    "id": "rE18UoqWP5cI"
   },
   "source": [
    "### Initialize your model\n",
    "- Define the number of people you're simulating and for how many timesteps\n",
    "- Define the infection parameters (radius, initial probability, transmission probability, duration of infection, etc.)\n",
    "- Define the boundaries that people will be moving within\n",
    "- Define a speed and timestep (dt) that every person will have "
   ]
  },
  {
   "cell_type": "code",
   "execution_count": 7,
   "metadata": {
    "id": "AJpb-J_AQUaz"
   },
   "outputs": [
    {
     "data": {
      "text/plain": [
       "Ellipsis"
      ]
     },
     "execution_count": 7,
     "metadata": {},
     "output_type": "execute_result"
    }
   ],
   "source": [
    "# Create 50 people and store all of their coordinates for 200 timesteps\n",
    "\n",
    "# Define the number of timesteps and people\n",
    "timesteps = 200\n",
    "num_people = 50\n",
    "\n",
    "# Define the infection radius, initial infection probability, transmission probability, and infection duration\n",
    "radius = 1\n",
    "init_prob = 0.05\n",
    "transmission_prob = 0.1\n",
    "duration = 50\n",
    "\n",
    "# Define the bounds and the matrix to store coordinates for every person at every timestep and status (for color)\n",
    "x_bounds = [0, 10]\n",
    "y_bounds = [0, 10]\n",
    "\n",
    "# Create an array to store all of the people\n",
    "speed = 1\n",
    "dt = 0.1\n",
    "\n",
    "### EDIT THIS ###\n",
    "# Initialize your people\n",
    "...\n",
    "\n",
    "# Run your model\n",
    "..."
   ]
  },
  {
   "cell_type": "markdown",
   "metadata": {
    "id": "OQ-VPK8jRhjx"
   },
   "source": [
    "### Animate Your Model"
   ]
  },
  {
   "cell_type": "code",
   "execution_count": 8,
   "metadata": {
    "id": "k4-EJGetdZn_"
   },
   "outputs": [
    {
     "ename": "NameError",
     "evalue": "name 'ppl_coords' is not defined",
     "output_type": "error",
     "traceback": [
      "\u001b[0;31m---------------------------------------------------------------------------\u001b[0m",
      "\u001b[0;31mNameError\u001b[0m                                 Traceback (most recent call last)",
      "Input \u001b[0;32mIn [8]\u001b[0m, in \u001b[0;36m<cell line: 1>\u001b[0;34m()\u001b[0m\n\u001b[0;32m----> 1\u001b[0m anim \u001b[38;5;241m=\u001b[39m animate(\u001b[43mppl_coords\u001b[49m, timesteps, ppl_colors)\n\u001b[1;32m      2\u001b[0m anim\n",
      "\u001b[0;31mNameError\u001b[0m: name 'ppl_coords' is not defined"
     ]
    }
   ],
   "source": [
    "anim = animate(ppl_coords, timesteps, ppl_colors)\n",
    "anim"
   ]
  },
  {
   "cell_type": "markdown",
   "metadata": {
    "id": "kQDzu6V7Zb4M"
   },
   "source": [
    "### Plot Your Data"
   ]
  },
  {
   "cell_type": "code",
   "execution_count": 9,
   "metadata": {
    "id": "q9Jj1D5DbLOg"
   },
   "outputs": [
    {
     "ename": "NameError",
     "evalue": "name 'susceptible' is not defined",
     "output_type": "error",
     "traceback": [
      "\u001b[0;31m---------------------------------------------------------------------------\u001b[0m",
      "\u001b[0;31mNameError\u001b[0m                                 Traceback (most recent call last)",
      "Input \u001b[0;32mIn [9]\u001b[0m, in \u001b[0;36m<cell line: 1>\u001b[0;34m()\u001b[0m\n\u001b[0;32m----> 1\u001b[0m plot_SIR(\u001b[43msusceptible\u001b[49m, infected, recovered, timesteps, num_people)\n",
      "\u001b[0;31mNameError\u001b[0m: name 'susceptible' is not defined"
     ]
    }
   ],
   "source": [
    "plot_SIR(susceptible, infected, recovered, timesteps, num_people)"
   ]
  },
  {
   "cell_type": "markdown",
   "metadata": {
    "id": "d8qTbmxGfZBL"
   },
   "source": [
    "### Run Your Model Multiple Times"
   ]
  },
  {
   "cell_type": "code",
   "execution_count": 10,
   "metadata": {
    "id": "jJ3a4F0Af0xI"
   },
   "outputs": [
    {
     "ename": "SyntaxError",
     "evalue": "cannot assign to Ellipsis (4190606938.py, line 32)",
     "output_type": "error",
     "traceback": [
      "\u001b[0;36m  Input \u001b[0;32mIn [10]\u001b[0;36m\u001b[0m\n\u001b[0;31m    for ...\u001b[0m\n\u001b[0m        ^\u001b[0m\n\u001b[0;31mSyntaxError\u001b[0m\u001b[0;31m:\u001b[0m cannot assign to Ellipsis\n"
     ]
    }
   ],
   "source": [
    "# Define the number of timesteps and people\n",
    "timesteps = 200\n",
    "num_people = 50\n",
    "\n",
    "# Define the infection radius, initial infection probability, transmission probability, and infection duration\n",
    "radius = 1\n",
    "init_prob = 0.05\n",
    "transmission_prob = 0.1\n",
    "duration = 50\n",
    "\n",
    "# Define the bounds and the matrix to store coordinates for every person at every timestep and status (for color)\n",
    "x_bounds = [0, 10]\n",
    "y_bounds = [0, 10]\n",
    "\n",
    "# Create an array to store all of the people\n",
    "speed = 1\n",
    "dt = 0.1\n",
    "\n",
    "### EDIT THIS ###\n",
    "# Number of times to run the simulation\n",
    "runs = 20\n",
    "\n",
    "### EDIT THIS ###\n",
    "# Initialize and run the simulation for the defined number of times\n",
    "# Make sure to collect the data for each run and average it all together to display an average of the SIR graph\n",
    "susceptible_total = ...\n",
    "infected_total = ...\n",
    "recovered_total = ...\n",
    "\n",
    "### EDIT THIS ###\n",
    "# Perform your simulation for the specified number of times\n",
    "for ...\n",
    "    ...\n",
    "  \n",
    "    ### EDIT THIS ###\n",
    "    # Update your \"total\" variables\n",
    "    ...\n",
    "\n",
    "### EDIT THIS ###\n",
    "# Divide your total variables by the number of simulation runs to get an average\n",
    "..."
   ]
  },
  {
   "cell_type": "code",
   "execution_count": 11,
   "metadata": {
    "id": "FAMnbUPGjs_g"
   },
   "outputs": [
    {
     "ename": "NameError",
     "evalue": "name 'susceptible_total' is not defined",
     "output_type": "error",
     "traceback": [
      "\u001b[0;31m---------------------------------------------------------------------------\u001b[0m",
      "\u001b[0;31mNameError\u001b[0m                                 Traceback (most recent call last)",
      "Input \u001b[0;32mIn [11]\u001b[0m, in \u001b[0;36m<cell line: 1>\u001b[0;34m()\u001b[0m\n\u001b[0;32m----> 1\u001b[0m plot_SIR(\u001b[43msusceptible_total\u001b[49m, infected_total, recovered_total, timesteps, num_people)\n",
      "\u001b[0;31mNameError\u001b[0m: name 'susceptible_total' is not defined"
     ]
    }
   ],
   "source": [
    "plot_SIR(susceptible_total, infected_total, recovered_total, timesteps, num_people)"
   ]
  },
  {
   "cell_type": "code",
   "execution_count": null,
   "metadata": {},
   "outputs": [],
   "source": []
  }
 ],
 "metadata": {
  "colab": {
   "authorship_tag": "ABX9TyMes+mhwGVwV0IC5GD2ILZn",
   "provenance": [
    {
     "file_id": "1jvTeKwxznZUwJLXfR-pcybpsCoVj6bza",
     "timestamp": 1668721654501
    },
    {
     "file_id": "1fgxYtaJsGBXGhXr5XEq-MS7ic43Hjs93",
     "timestamp": 1668716205774
    },
    {
     "file_id": "1_Hi_co8MwSsvl85BF643ki7zIinlk3LM",
     "timestamp": 1668113504883
    },
    {
     "file_id": "1qFwA36CLEm5Eh3oxwcapnrY7ln1gSBOJ",
     "timestamp": 1668113147030
    },
    {
     "file_id": "1FE-nSXnjN4f8XOpNx_0Hkv57L-ni4FvC",
     "timestamp": 1667445171798
    }
   ]
  },
  "kernelspec": {
   "display_name": "Python 3 (ipykernel)",
   "language": "python",
   "name": "python3"
  },
  "language_info": {
   "codemirror_mode": {
    "name": "ipython",
    "version": 3
   },
   "file_extension": ".py",
   "mimetype": "text/x-python",
   "name": "python",
   "nbconvert_exporter": "python",
   "pygments_lexer": "ipython3",
   "version": "3.9.15"
  }
 },
 "nbformat": 4,
 "nbformat_minor": 1
}
